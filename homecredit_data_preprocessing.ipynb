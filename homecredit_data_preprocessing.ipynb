{
 "cells": [
  {
   "cell_type": "code",
   "execution_count": 1,
   "metadata": {},
   "outputs": [],
   "source": [
    "#import libraries\n",
    "import numpy as np\n",
    "import pandas as pd \n",
    "from sklearn.preprocessing import LabelEncoder\n",
    "import os\n",
    "import warnings\n",
    "from sklearn.model_selection import train_test_split\n",
    "from sklearn.linear_model import Lasso, LogisticRegression\n",
    "from sklearn.feature_selection import SelectFromModel\n",
    "from sklearn.preprocessing import StandardScaler\n",
    "from sklearn.preprocessing import PolynomialFeatures\n",
    "warnings.filterwarnings('ignore')\n"
   ]
  },
  {
   "cell_type": "code",
   "execution_count": 2,
   "metadata": {},
   "outputs": [],
   "source": [
    "# read in the data\n",
    "data = pd.read_csv('home-credit-default-risk/application_train.csv')"
   ]
  },
  {
   "cell_type": "code",
   "execution_count": 4,
   "metadata": {},
   "outputs": [
    {
     "name": "stdout",
     "output_type": "stream",
     "text": [
      "one hot encoding complete\n"
     ]
    }
   ],
   "source": [
    "#********\n",
    "# label encoding for categorical columns w/ only 2 categories\n",
    "le= LabelEncoder()\n",
    "\n",
    "#iterate through columns\n",
    "for col in data:\n",
    "    # If categorical data and 2 or fewer unique categories \n",
    "    if data[col].dtype == 'object' and len(list(data[col].unique())) <= 2:\n",
    "        data[col] = le.fit_transform(data[col])\n",
    "\n",
    "\n",
    "#***********\n",
    "#one-hot encoding for rest of categorical cols\n",
    "data= pd.get_dummies(data)\n",
    "print(\"one hot encoding complete\")"
   ]
  },
  {
   "cell_type": "code",
   "execution_count": 6,
   "metadata": {},
   "outputs": [
    {
     "name": "stdout",
     "output_type": "stream",
     "text": [
      "imputation done\n"
     ]
    }
   ],
   "source": [
    "#fix outliers in data\n",
    "data['DAYS_EMPLOYED'].replace({365243: np.nan}, inplace = True)\n",
    "data['DAYS_BIRTH'] = abs(data['DAYS_BIRTH'])\n",
    "\n",
    "#impute missing data\n",
    "data= data.apply(lambda x: x.fillna(x.mean()), axis=0)\n",
    "print(\"imputation done\")\n"
   ]
  },
  {
   "cell_type": "code",
   "execution_count": null,
   "metadata": {},
   "outputs": [],
   "source": [
    "# save cleaned full dataset to csv\n",
    "data.to_csv('cleandata.csv', index=False) "
   ]
  },
  {
   "cell_type": "code",
   "execution_count": null,
   "metadata": {},
   "outputs": [],
   "source": [
    "#***********************************************************************\n",
    "# Data Integration: getting info from other data files\n",
    "#***********************************************************************"
   ]
  },
  {
   "cell_type": "code",
   "execution_count": 7,
   "metadata": {},
   "outputs": [
    {
     "name": "stdout",
     "output_type": "stream",
     "text": [
      "Feature engineering extra features\n"
     ]
    }
   ],
   "source": [
    "#***********************************************************************\n",
    "print(\"Feature engineering extra features\")\n",
    "# \n",
    "data['CREDIT_INCOME_PERCENT'] = data['AMT_CREDIT'] / data['AMT_INCOME_TOTAL']\n",
    "data['ANNUITY_INCOME_PERCENT'] = data['AMT_ANNUITY'] / data['AMT_INCOME_TOTAL']\n",
    "data['CREDIT_TERM'] = data['AMT_ANNUITY'] / data['AMT_CREDIT']\n",
    "data['DAYS_EMPLOYED_PERCENT'] = data['DAYS_EMPLOYED'] / data['DAYS_BIRTH']"
   ]
  },
  {
   "cell_type": "code",
   "execution_count": 9,
   "metadata": {},
   "outputs": [],
   "source": [
    "# burea and burea_balance\n",
    "bureau= pd.read_csv('home-credit-default-risk/bureau.csv')"
   ]
  },
  {
   "cell_type": "code",
   "execution_count": 13,
   "metadata": {},
   "outputs": [],
   "source": [
    "b= bureau.groupby('SK_ID_CURR').agg({'AMT_CREDIT_SUM_DEBT': 'sum'})\n",
    "b['TOTAL_OVERDUE']=bureau.groupby('SK_ID_CURR').agg({'AMT_CREDIT_SUM_OVERDUE':'sum'})\n",
    "b['NUM_PROLONG']=bureau.groupby('SK_ID_CURR').agg({'CNT_CREDIT_PROLONG':'sum'})\n",
    "b['TOTAL_ANNUITY']=bureau.groupby('SK_ID_CURR').agg({'AMT_ANNUITY':'sum'}) \n",
    "b[['MEAN_DAYS_APPLY','MAX_DAYS_APPLY']]=bureau.groupby('SK_ID_CURR').agg({'DAYS_CREDIT':['mean','max']})\n",
    "b[['MEAN_DAYS_OVERDUE','MAX_DAYS_OVERDUE']]=bureau.groupby('SK_ID_CURR').agg({'CREDIT_DAY_OVERDUE':['mean','max']})\n"
   ]
  },
  {
   "cell_type": "code",
   "execution_count": 14,
   "metadata": {},
   "outputs": [],
   "source": [
    "b['NUM_ACTIVE_LOANS']=bureau[bureau.CREDIT_ACTIVE=='Active'].groupby('SK_ID_CURR').count()['CREDIT_ACTIVE']\n",
    "b['NUM_IN_YEAR']= bureau[bureau.DAYS_CREDIT>=-365].groupby('SK_ID_CURR').count()['DAYS_CREDIT']"
   ]
  },
  {
   "cell_type": "code",
   "execution_count": 16,
   "metadata": {},
   "outputs": [],
   "source": [
    "new_data= pd.merge(data, b, how='left', on='SK_ID_CURR')"
   ]
  },
  {
   "cell_type": "code",
   "execution_count": 21,
   "metadata": {},
   "outputs": [],
   "source": [
    "new_data['AMT_CREDIT_SUM_DEBT'].replace({np.nan:0}, inplace=True)\n",
    "new_data['TOTAL_OVERDUE'].replace({np.nan:0}, inplace=True)\n",
    "new_data['NUM_PROLONG'].replace({np.nan:0}, inplace=True)\n",
    "new_data['TOTAL_ANNUITY'].replace({np.nan:0}, inplace=True)\n",
    "new_data['MEAN_DAYS_APPLY'].replace({np.nan:0}, inplace=True)\n",
    "new_data['MAX_DAYS_APPLY'].replace({np.nan:0}, inplace=True)\n",
    "new_data['MEAN_DAYS_OVERDUE'].replace({np.nan:0}, inplace=True)\n",
    "new_data['MAX_DAYS_OVERDUE'].replace({np.nan:0}, inplace=True)\n",
    "new_data['NUM_ACTIVE_LOANS'].replace({np.nan:0}, inplace=True)\n",
    "new_data['NUM_IN_YEAR'].replace({np.nan:0}, inplace=True)"
   ]
  },
  {
   "cell_type": "code",
   "execution_count": 29,
   "metadata": {},
   "outputs": [
    {
     "name": "stdout",
     "output_type": "stream",
     "text": [
      "scaling data\n",
      "Starting lasso regression for feature selection\n",
      "Lasso Regression Complete\n"
     ]
    }
   ],
   "source": [
    "#----------------------------------------------------------------------\n",
    "#   feature selection with lasso regression\n",
    "\n",
    "X_train, X_test, y_train, y_test = train_test_split(\n",
    "    new_data.drop(labels=['TARGET', 'SK_ID_CURR'], axis=1),\n",
    "    new_data['TARGET'],\n",
    "    test_size=0.3,\n",
    "    random_state=0)\n",
    "\n",
    "\n",
    "print(\"scaling data\")\n",
    "# scaling the data\n",
    "scaler = StandardScaler()\n",
    "scaler.fit(X_train)\n",
    "\n",
    "print(\"Starting lasso regression for feature selection\")\n",
    "selector = SelectFromModel(LogisticRegression(C=1, solver='saga', penalty='l1'), max_features=150)\n",
    "selector.fit(scaler.transform(X_train), y_train)\n",
    "\n",
    "selected_feat = X_train.columns[(selector.get_support())]\n",
    "print(\"Lasso Regression Complete\")\n",
    "\n"
   ]
  },
  {
   "cell_type": "code",
   "execution_count": 31,
   "metadata": {},
   "outputs": [],
   "source": [
    "\n",
    "sel= new_data[selected_feat]\n",
    "sel['TARGET']= new_data['TARGET']\n",
    "sel['SK_ID_CURR']= new_data['SK_ID_CURR']"
   ]
  },
  {
   "cell_type": "code",
   "execution_count": null,
   "metadata": {},
   "outputs": [],
   "source": [
    "print(\"saving selected features to csv\")\n",
    "#dataframe to csv\n",
    "sel.to_csv('home_credit_data.csv', index=False)"
   ]
  }
 ],
 "metadata": {
  "kernelspec": {
   "display_name": "Python 3",
   "language": "python",
   "name": "python3"
  },
  "language_info": {
   "codemirror_mode": {
    "name": "ipython",
    "version": 3
   },
   "file_extension": ".py",
   "mimetype": "text/x-python",
   "name": "python",
   "nbconvert_exporter": "python",
   "pygments_lexer": "ipython3",
   "version": "3.8.0"
  }
 },
 "nbformat": 4,
 "nbformat_minor": 4
}
