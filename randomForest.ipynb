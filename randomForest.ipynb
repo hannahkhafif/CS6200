{
 "cells": [
  {
   "cell_type": "code",
   "execution_count": 24,
   "metadata": {},
   "outputs": [],
   "source": [
    "import pandas as pd\n",
    "import numpy as np\n",
    "import matplotlib.pyplot as plt\n",
    "from sklearn.preprocessing import StandardScaler, RobustScaler, MinMaxScaler\n",
    "from sklearn.model_selection import train_test_split\n",
    "from sklearn import svm\n",
    "from sklearn.svm import LinearSVC\n",
    "from sklearn.metrics import classification_report\n",
    "from sklearn.metrics import plot_roc_curve, roc_auc_score\n",
    "from sklearn.ensemble import RandomForestClassifier as RF\n",
    "from sklearn.model_selection import GridSearchCV\n",
    "from sklearn.model_selection import cross_val_score\n",
    "\n",
    "import warnings\n",
    "warnings.filterwarnings(\"ignore\")"
   ]
  },
  {
   "cell_type": "code",
   "execution_count": 8,
   "metadata": {},
   "outputs": [],
   "source": [
    "fulldata = pd.read_csv('home_credit_data.csv') \n",
    "cleandata = pd.read_csv('cleandata.csv')"
   ]
  },
  {
   "cell_type": "code",
   "execution_count": 9,
   "metadata": {},
   "outputs": [
    {
     "data": {
      "text/html": [
       "<div>\n",
       "<style scoped>\n",
       "    .dataframe tbody tr th:only-of-type {\n",
       "        vertical-align: middle;\n",
       "    }\n",
       "\n",
       "    .dataframe tbody tr th {\n",
       "        vertical-align: top;\n",
       "    }\n",
       "\n",
       "    .dataframe thead th {\n",
       "        text-align: right;\n",
       "    }\n",
       "</style>\n",
       "<table border=\"1\" class=\"dataframe\">\n",
       "  <thead>\n",
       "    <tr style=\"text-align: right;\">\n",
       "      <th></th>\n",
       "      <th>NAME_CONTRACT_TYPE</th>\n",
       "      <th>FLAG_OWN_CAR</th>\n",
       "      <th>FLAG_OWN_REALTY</th>\n",
       "      <th>CNT_CHILDREN</th>\n",
       "      <th>AMT_INCOME_TOTAL</th>\n",
       "      <th>AMT_ANNUITY</th>\n",
       "      <th>AMT_GOODS_PRICE</th>\n",
       "      <th>REGION_POPULATION_RELATIVE</th>\n",
       "      <th>DAYS_EMPLOYED</th>\n",
       "      <th>DAYS_REGISTRATION</th>\n",
       "      <th>...</th>\n",
       "      <th>CREDIT_INCOME_PERCENT</th>\n",
       "      <th>ANNUITY_INCOME_PERCENT</th>\n",
       "      <th>CREDIT_TERM</th>\n",
       "      <th>DAYS_EMPLOYED_PERCENT</th>\n",
       "      <th>AMT_CREDIT_SUM_DEBT</th>\n",
       "      <th>MEAN_DAYS_APPLY</th>\n",
       "      <th>MAX_DAYS_APPLY</th>\n",
       "      <th>NUM_ACTIVE_LOANS</th>\n",
       "      <th>TARGET</th>\n",
       "      <th>SK_ID_CURR</th>\n",
       "    </tr>\n",
       "  </thead>\n",
       "  <tbody>\n",
       "    <tr>\n",
       "      <th>0</th>\n",
       "      <td>0</td>\n",
       "      <td>0</td>\n",
       "      <td>1</td>\n",
       "      <td>0</td>\n",
       "      <td>202500.0</td>\n",
       "      <td>24700.5</td>\n",
       "      <td>351000.0</td>\n",
       "      <td>0.018801</td>\n",
       "      <td>-637.0</td>\n",
       "      <td>-3648.0</td>\n",
       "      <td>...</td>\n",
       "      <td>2.007889</td>\n",
       "      <td>0.121978</td>\n",
       "      <td>0.060749</td>\n",
       "      <td>-0.067329</td>\n",
       "      <td>245781.0</td>\n",
       "      <td>-874.00</td>\n",
       "      <td>-103.0</td>\n",
       "      <td>2.0</td>\n",
       "      <td>1</td>\n",
       "      <td>100002</td>\n",
       "    </tr>\n",
       "    <tr>\n",
       "      <th>1</th>\n",
       "      <td>0</td>\n",
       "      <td>0</td>\n",
       "      <td>0</td>\n",
       "      <td>0</td>\n",
       "      <td>270000.0</td>\n",
       "      <td>35698.5</td>\n",
       "      <td>1129500.0</td>\n",
       "      <td>0.003541</td>\n",
       "      <td>-1188.0</td>\n",
       "      <td>-1186.0</td>\n",
       "      <td>...</td>\n",
       "      <td>4.790750</td>\n",
       "      <td>0.132217</td>\n",
       "      <td>0.027598</td>\n",
       "      <td>-0.070862</td>\n",
       "      <td>0.0</td>\n",
       "      <td>-1400.75</td>\n",
       "      <td>-606.0</td>\n",
       "      <td>1.0</td>\n",
       "      <td>0</td>\n",
       "      <td>100003</td>\n",
       "    </tr>\n",
       "    <tr>\n",
       "      <th>2</th>\n",
       "      <td>1</td>\n",
       "      <td>1</td>\n",
       "      <td>1</td>\n",
       "      <td>0</td>\n",
       "      <td>67500.0</td>\n",
       "      <td>6750.0</td>\n",
       "      <td>135000.0</td>\n",
       "      <td>0.010032</td>\n",
       "      <td>-225.0</td>\n",
       "      <td>-4260.0</td>\n",
       "      <td>...</td>\n",
       "      <td>2.000000</td>\n",
       "      <td>0.100000</td>\n",
       "      <td>0.050000</td>\n",
       "      <td>-0.011814</td>\n",
       "      <td>0.0</td>\n",
       "      <td>-867.00</td>\n",
       "      <td>-408.0</td>\n",
       "      <td>0.0</td>\n",
       "      <td>0</td>\n",
       "      <td>100004</td>\n",
       "    </tr>\n",
       "    <tr>\n",
       "      <th>3</th>\n",
       "      <td>0</td>\n",
       "      <td>0</td>\n",
       "      <td>1</td>\n",
       "      <td>0</td>\n",
       "      <td>135000.0</td>\n",
       "      <td>29686.5</td>\n",
       "      <td>297000.0</td>\n",
       "      <td>0.008019</td>\n",
       "      <td>-3039.0</td>\n",
       "      <td>-9833.0</td>\n",
       "      <td>...</td>\n",
       "      <td>2.316167</td>\n",
       "      <td>0.219900</td>\n",
       "      <td>0.094941</td>\n",
       "      <td>-0.159905</td>\n",
       "      <td>0.0</td>\n",
       "      <td>0.00</td>\n",
       "      <td>0.0</td>\n",
       "      <td>0.0</td>\n",
       "      <td>0</td>\n",
       "      <td>100006</td>\n",
       "    </tr>\n",
       "    <tr>\n",
       "      <th>4</th>\n",
       "      <td>0</td>\n",
       "      <td>0</td>\n",
       "      <td>1</td>\n",
       "      <td>0</td>\n",
       "      <td>121500.0</td>\n",
       "      <td>21865.5</td>\n",
       "      <td>513000.0</td>\n",
       "      <td>0.028663</td>\n",
       "      <td>-3038.0</td>\n",
       "      <td>-4311.0</td>\n",
       "      <td>...</td>\n",
       "      <td>4.222222</td>\n",
       "      <td>0.179963</td>\n",
       "      <td>0.042623</td>\n",
       "      <td>-0.152418</td>\n",
       "      <td>0.0</td>\n",
       "      <td>-1149.00</td>\n",
       "      <td>-1149.0</td>\n",
       "      <td>0.0</td>\n",
       "      <td>0</td>\n",
       "      <td>100007</td>\n",
       "    </tr>\n",
       "  </tbody>\n",
       "</table>\n",
       "<p>5 rows × 152 columns</p>\n",
       "</div>"
      ],
      "text/plain": [
       "   NAME_CONTRACT_TYPE  FLAG_OWN_CAR  FLAG_OWN_REALTY  CNT_CHILDREN  \\\n",
       "0                   0             0                1             0   \n",
       "1                   0             0                0             0   \n",
       "2                   1             1                1             0   \n",
       "3                   0             0                1             0   \n",
       "4                   0             0                1             0   \n",
       "\n",
       "   AMT_INCOME_TOTAL  AMT_ANNUITY  AMT_GOODS_PRICE  REGION_POPULATION_RELATIVE  \\\n",
       "0          202500.0      24700.5         351000.0                    0.018801   \n",
       "1          270000.0      35698.5        1129500.0                    0.003541   \n",
       "2           67500.0       6750.0         135000.0                    0.010032   \n",
       "3          135000.0      29686.5         297000.0                    0.008019   \n",
       "4          121500.0      21865.5         513000.0                    0.028663   \n",
       "\n",
       "   DAYS_EMPLOYED  DAYS_REGISTRATION  ...  CREDIT_INCOME_PERCENT  \\\n",
       "0         -637.0            -3648.0  ...               2.007889   \n",
       "1        -1188.0            -1186.0  ...               4.790750   \n",
       "2         -225.0            -4260.0  ...               2.000000   \n",
       "3        -3039.0            -9833.0  ...               2.316167   \n",
       "4        -3038.0            -4311.0  ...               4.222222   \n",
       "\n",
       "   ANNUITY_INCOME_PERCENT  CREDIT_TERM  DAYS_EMPLOYED_PERCENT  \\\n",
       "0                0.121978     0.060749              -0.067329   \n",
       "1                0.132217     0.027598              -0.070862   \n",
       "2                0.100000     0.050000              -0.011814   \n",
       "3                0.219900     0.094941              -0.159905   \n",
       "4                0.179963     0.042623              -0.152418   \n",
       "\n",
       "   AMT_CREDIT_SUM_DEBT  MEAN_DAYS_APPLY  MAX_DAYS_APPLY  NUM_ACTIVE_LOANS  \\\n",
       "0             245781.0          -874.00          -103.0               2.0   \n",
       "1                  0.0         -1400.75          -606.0               1.0   \n",
       "2                  0.0          -867.00          -408.0               0.0   \n",
       "3                  0.0             0.00             0.0               0.0   \n",
       "4                  0.0         -1149.00         -1149.0               0.0   \n",
       "\n",
       "   TARGET  SK_ID_CURR  \n",
       "0       1      100002  \n",
       "1       0      100003  \n",
       "2       0      100004  \n",
       "3       0      100006  \n",
       "4       0      100007  \n",
       "\n",
       "[5 rows x 152 columns]"
      ]
     },
     "execution_count": 9,
     "metadata": {},
     "output_type": "execute_result"
    }
   ],
   "source": [
    "fulldata.head(5)"
   ]
  },
  {
   "cell_type": "code",
   "execution_count": 42,
   "metadata": {},
   "outputs": [],
   "source": [
    "def classify(data):\n",
    "    y= data['TARGET']\n",
    "    X= data.drop(columns=['TARGET','SK_ID_CURR'])\n",
    "    print(\"scaling\")\n",
    "    scalar= MinMaxScaler()\n",
    "    scalar.fit_transform(data)\n",
    "    print(\"test train splitting\")\n",
    "    X_train, X_test, y_train, y_test= train_test_split(X,y, test_size=0.2)\n",
    "    \n",
    "    clf= RF(max_depth=10 ,n_estimators=20)\n",
    "    print(\"fitting clf\")\n",
    "    clf.fit(X_train, y_train)\n",
    "    print(\"predicting\")\n",
    "    #preds= clf.predict(X_test)\n",
    "    y_scores= clf.predict_proba(X_test)\n",
    "    print(\"roc\")\n",
    "    r= roc_auc_score(y_test, y_scores[:,1])\n",
    "    print(r)\n",
    "    acc= clf.score(X_test, y_test)\n",
    "    print(\"Accuracy: \", acc)\n",
    "    plot_roc_curve(clf, X_test, y_test)\n",
    "    plt.show()\n",
    "    "
   ]
  },
  {
   "cell_type": "code",
   "execution_count": 43,
   "metadata": {
    "scrolled": true
   },
   "outputs": [
    {
     "name": "stdout",
     "output_type": "stream",
     "text": [
      "scaling\n",
      "test train splitting\n",
      "fitting clf\n",
      "predicting\n",
      "roc\n",
      "0.7389606290118453\n",
      "Accuracy:  0.9189470432336634\n"
     ]
    },
    {
     "data": {
      "image/png": "[encoded data removed]",
      "text/plain": [
       "<Figure size 432x288 with 1 Axes>"
      ]
     },
     "metadata": {
      "needs_background": "light"
     },
     "output_type": "display_data"
    }
   ],
   "source": [
    "classify(fulldata)"
   ]
  },
  {
   "cell_type": "code",
   "execution_count": 44,
   "metadata": {},
   "outputs": [
    {
     "name": "stdout",
     "output_type": "stream",
     "text": [
      "scaling\n",
      "test train splitting\n",
      "fitting clf\n",
      "predicting\n",
      "roc\n",
      "0.7184407963107204\n",
      "Accuracy:  0.918638115213892\n"
     ]
    },
    {
     "data": {
      "image/png": "[encoded data removed]",
      "text/plain": [
       "<Figure size 432x288 with 1 Axes>"
      ]
     },
     "metadata": {
      "needs_background": "light"
     },
     "output_type": "display_data"
    }
   ],
   "source": [
    "classify(cleandata)"
   ]
  },
  {
   "cell_type": "code",
   "execution_count": null,
   "metadata": {},
   "outputs": [],
   "source": []
  }
 ],
 "metadata": {
  "kernelspec": {
   "display_name": "Python 3",
   "language": "python",
   "name": "python3"
  },
  "language_info": {
   "codemirror_mode": {
    "name": "ipython",
    "version": 3
   },
   "file_extension": ".py",
   "mimetype": "text/x-python",
   "name": "python",
   "nbconvert_exporter": "python",
   "pygments_lexer": "ipython3",
   "version": "3.8.0"
  }
 },
 "nbformat": 4,
 "nbformat_minor": 4
}
